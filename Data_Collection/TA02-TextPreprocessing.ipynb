{
 "cells": [
  {
   "cell_type": "code",
   "execution_count": 1,
   "metadata": {},
   "outputs": [],
   "source": [
    "import re"
   ]
  },
  {
   "cell_type": "code",
   "execution_count": 6,
   "metadata": {},
   "outputs": [
    {
     "data": {
      "text/plain": [
       "['duck', 'duck', 'duck', 'duck']"
      ]
     },
     "execution_count": 6,
     "metadata": {},
     "output_type": "execute_result"
    }
   ],
   "source": [
    "string = 'If it @ looks like a duck, swims like a duck, and quacks like a duck, then it probably is a duck'\n",
    "re.findall('duck',string)"
   ]
  },
  {
   "cell_type": "code",
   "execution_count": 7,
   "metadata": {},
   "outputs": [
    {
     "data": {
      "text/plain": [
       "['If',\n",
       " 'it',\n",
       " '@',\n",
       " 'looks',\n",
       " 'like',\n",
       " 'a',\n",
       " 'duck,',\n",
       " 'swims',\n",
       " 'like',\n",
       " 'a',\n",
       " 'duck,',\n",
       " 'and',\n",
       " 'quacks',\n",
       " 'like',\n",
       " 'a',\n",
       " 'duck,',\n",
       " 'then',\n",
       " 'it',\n",
       " 'probably',\n",
       " 'is',\n",
       " 'a',\n",
       " 'duck']"
      ]
     },
     "execution_count": 7,
     "metadata": {},
     "output_type": "execute_result"
    }
   ],
   "source": [
    "re.split('\\s+',string)"
   ]
  },
  {
   "cell_type": "code",
   "execution_count": 11,
   "metadata": {},
   "outputs": [
    {
     "data": {
      "text/plain": [
       "['If',\n",
       " 'it',\n",
       " 'looks',\n",
       " 'like',\n",
       " 'a',\n",
       " 'duck',\n",
       " 'swims',\n",
       " 'like',\n",
       " 'a',\n",
       " 'duck',\n",
       " 'and',\n",
       " 'quacks',\n",
       " 'like',\n",
       " 'a',\n",
       " 'duck',\n",
       " 'then',\n",
       " 'it',\n",
       " 'probably',\n",
       " 'is',\n",
       " 'a',\n",
       " 'duck']"
      ]
     },
     "execution_count": 11,
     "metadata": {},
     "output_type": "execute_result"
    }
   ],
   "source": [
    "pattern = '(\\d+|\\w+|\\@)' # \\@ has been added to get it\n",
    "re.findall(pattern,string)"
   ]
  },
  {
   "cell_type": "code",
   "execution_count": 17,
   "metadata": {},
   "outputs": [
    {
     "name": "stdout",
     "output_type": "stream",
     "text": [
      "['I', 'A', 'V', 'M', 'U', 'K', 'E', 'S', 'H']\n"
     ]
    }
   ],
   "source": [
    "string = 'If it @ looks like A Vuck, swiMs like a dUck, and quacks liKe a duck, thEn it probably iS a duckH'\n",
    "print(re.findall(r'[A-Z]+',string))"
   ]
  }
 ],
 "metadata": {
  "kernelspec": {
   "display_name": "Python 3",
   "language": "python",
   "name": "python3"
  },
  "language_info": {
   "codemirror_mode": {
    "name": "ipython",
    "version": 3
   },
   "file_extension": ".py",
   "mimetype": "text/x-python",
   "name": "python",
   "nbconvert_exporter": "python",
   "pygments_lexer": "ipython3",
   "version": "3.11.4"
  },
  "orig_nbformat": 4
 },
 "nbformat": 4,
 "nbformat_minor": 2
}
