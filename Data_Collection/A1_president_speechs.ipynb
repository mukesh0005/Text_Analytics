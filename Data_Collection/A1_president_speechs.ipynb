{
 "cells": [
  {
   "cell_type": "markdown",
   "metadata": {},
   "source": [
    "## Scraping President speeches"
   ]
  },
  {
   "cell_type": "markdown",
   "metadata": {},
   "source": [
    "- Import Libraries"
   ]
  },
  {
   "cell_type": "code",
   "execution_count": 1,
   "metadata": {},
   "outputs": [],
   "source": [
    "from bs4 import BeautifulSoup as bs\n",
    "import pandas as pd\n",
    "import time\n",
    "from selenium import webdriver\n",
    "from selenium.webdriver.firefox.service import Service\n",
    "from webdriver_manager.firefox import GeckoDriverManager\n",
    "from selenium.webdriver.common.by import By\n",
    "import re\n",
    "import dateparser\n",
    "import requests"
   ]
  },
  {
   "cell_type": "markdown",
   "metadata": {},
   "source": [
    "- Initializing the driver and collect HTML content of the page using Beautiful soup"
   ]
  },
  {
   "cell_type": "code",
   "execution_count": 2,
   "metadata": {},
   "outputs": [],
   "source": [
    "# Initialize Firefox browser\n",
    "driver = webdriver.Firefox()\n",
    "\n",
    "# Navigate to the Miller Center's presidential speeches page\n",
    "url = \"https://millercenter.org/the-presidency/presidential-speeches\"\n",
    "driver.get(url)\n",
    "\n",
    "# Scroll down to load more content if needed (you may need to adapt this part)\n",
    "scroll_pause_time = 4\n",
    "initialcoord = driver.execute_script(\"return document.body.scrollHeight\")\n",
    "while True:\n",
    "    driver.execute_script(\"window.scrollTo(0, document.body.scrollHeight);\")\n",
    "    time.sleep(scroll_pause_time)\n",
    "    new_coord = driver.execute_script(\"return document.body.scrollHeight\")\n",
    "    if new_coord == initialcoord:\n",
    "        break\n",
    "    initialcoord = new_coord"
   ]
  },
  {
   "cell_type": "code",
   "execution_count": 3,
   "metadata": {},
   "outputs": [],
   "source": [
    "# Extract the HTML content after scrolling\n",
    "page_source = driver.page_source\n",
    "bsobject_linkpage = bs(page_source, 'html.parser')"
   ]
  },
  {
   "cell_type": "code",
   "execution_count": 4,
   "metadata": {},
   "outputs": [],
   "source": [
    "# Extract speech URLs\n",
    "speech_url_list = []\n",
    "\n",
    "# Loop through the elements and extract data\n",
    "for speech in bsobject_linkpage.find_all(\"a\", href= re.compile('presidential-speeches/')):\n",
    "    speech_data = speech[\"href\"]\n",
    "    speech_url_list.append(speech_data)"
   ]
  },
  {
   "cell_type": "code",
   "execution_count": 5,
   "metadata": {},
   "outputs": [
    {
     "data": {
      "text/plain": [
       "['https://millercenter.org/the-presidency/presidential-speeches/february-21-2023-remarks-one-year-anniversary-ukraine-war']"
      ]
     },
     "execution_count": 5,
     "metadata": {},
     "output_type": "execute_result"
    }
   ],
   "source": [
    "speech_url_list[:1]"
   ]
  },
  {
   "cell_type": "markdown",
   "metadata": {},
   "source": [
    "### For each URL scraped from the millercenter home page using this URls to get the name,title,date,about,speech."
   ]
  },
  {
   "cell_type": "code",
   "execution_count": 6,
   "metadata": {},
   "outputs": [],
   "source": [
    "title, speech, name, date, about = ([] for i in range(5))\n",
    "for index,link in enumerate(speech_url_list[:]):\n",
    "    speech_text=[]\n",
    "    response = requests.get(link)\n",
    "    # Check if the request was successful (status code 200)\n",
    "    if response.status_code == 200:\n",
    "    # Parse the HTML content using BeautifulSoup\n",
    "        soup = bs(response.text, 'html.parser')\n",
    "        try:\n",
    "            name.append((soup.find('p', class_=\"president-name\").text).rstrip())\n",
    "        except AttributeError:\n",
    "            name.append(\"No name available\")\n",
    "        try:\n",
    "            title.append((soup.find('h2', class_=\"presidential-speeches--title\").text).rstrip())\n",
    "        except AttributeError:\n",
    "            title.append(\"No title available\")\n",
    "        try:\n",
    "            date.append((soup.find('p', class_=\"episode-date\").text).rstrip())\n",
    "        except AttributeError:\n",
    "            date.append(\"No date available\")\n",
    "        try:\n",
    "            about.append((soup.find('div', class_=\"about-sidebar--intro\").text).rstrip())\n",
    "        except AttributeError:\n",
    "            about.append(\"No about available\")\n",
    "        try:\n",
    "            speech_raw = soup.find('div', class_=\"transcript-inner\").text\n",
    "        except:\n",
    "            try:\n",
    "                speech_raw = (soup.find('div', class_=\"view-transcript\").text).rstrip()\n",
    "            except:\n",
    "                speech_raw = \"No speech available\"\n",
    "        speech.append(re.sub(\"Transcript|\\\\n\",\" \",speech_raw))\n",
    "    else:\n",
    "        print(f\"Failed to retrieve content. Status code: {response.status_code}\")"
   ]
  },
  {
   "cell_type": "markdown",
   "metadata": {},
   "source": [
    "### Converting the collected data into dataframe"
   ]
  },
  {
   "cell_type": "code",
   "execution_count": null,
   "metadata": {},
   "outputs": [],
   "source": [
    "if len(title) == len(speech) == len(name) == len(date) == len(about):\n",
    "    speeches_presidents = pd.DataFrame({'name':name,'title':title,'date':date,'info':about,'speech':speech}, columns=['name','title','date','info','speech'])"
   ]
  },
  {
   "cell_type": "markdown",
   "metadata": {},
   "source": [
    "### Convert the collected data to a csv file"
   ]
  },
  {
   "cell_type": "code",
   "execution_count": null,
   "metadata": {},
   "outputs": [],
   "source": [
    "speeches_presidents.to_csv(\"presidential_speeches.csv\", encoding=\"utf-8\",quotechar=\"'\",index=False)"
   ]
  }
 ],
 "metadata": {
  "kernelspec": {
   "display_name": "Python 3",
   "language": "python",
   "name": "python3"
  },
  "language_info": {
   "codemirror_mode": {
    "name": "ipython",
    "version": 3
   },
   "file_extension": ".py",
   "mimetype": "text/x-python",
   "name": "python",
   "nbconvert_exporter": "python",
   "pygments_lexer": "ipython3",
   "version": "3.11.4"
  },
  "orig_nbformat": 4
 },
 "nbformat": 4,
 "nbformat_minor": 2
}
